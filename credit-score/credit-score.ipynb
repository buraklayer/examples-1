{
 "cells": [
  {
   "cell_type": "markdown",
   "source": [
    "## Credit score modeling with Layer\n",
    "[![Open in Layer](https://development.layer.co/assets/badge.svg)](https://development.layer.co/layer/credit-score) [![Open in Colab](https://colab.research.google.com/assets/colab-badge.svg)](https://colab.research.google.com/github/layerai/examples/blob/main/credit-score/credit-score.ipynb) [![Layer Examples Github](https://badgen.net/badge/icon/github?icon=github&label)](https://github.com/layerai/examples/tree/main/credit-score)\n",
    "\n",
    "In this project we use Layer to build a credit scoring model. The project uses the [Home Credit Default Risk dataset](https://www.kaggle.com/c/home-credit-default-risk/overview) that is hosted on Kaggle."
   ],
   "metadata": {
    "id": "YTpDGVW-92Jh"
   }
  },
  {
   "cell_type": "markdown",
   "source": [
    "## What are we going to learn?\n",
    "- Create features in Python\n",
    "- Fetching features and datasets and using them to train a model in Layer. \n",
    "- Using multiple datasets and featuresets in a Layer project\n",
    "- Experimentation tracking with\n",
    "     - logging model parameters\n",
    "     - logging model evaluation metrics\n",
    "     - logging Matplotlib figures"
   ],
   "metadata": {
    "id": "X6bxcnNp-Zh-"
   }
  },
  {
   "cell_type": "markdown",
   "source": [
    "### Install Layer"
   ],
   "metadata": {
    "id": "WEauGNz0-6ry"
   }
  },
  {
   "cell_type": "code",
   "execution_count": 1,
   "metadata": {
    "colab": {
     "base_uri": "https://localhost:8080/"
    },
    "id": "3VjulgHKUDIN",
    "outputId": "b7bcdaa9-567a-44f5-9e7d-d8cbb9e25bf2"
   },
   "outputs": [
    {
     "output_type": "stream",
     "name": "stdout",
     "text": [
      "\u001B[K     |████████████████████████████████| 29.4 MB 1.4 MB/s \n",
      "\u001B[K     |████████████████████████████████| 56 kB 2.4 MB/s \n",
      "\u001B[K     |████████████████████████████████| 256 kB 54.1 MB/s \n",
      "\u001B[K     |████████████████████████████████| 212.4 MB 54 kB/s \n",
      "\u001B[K     |████████████████████████████████| 132 kB 44.4 MB/s \n",
      "\u001B[K     |████████████████████████████████| 3.6 MB 34.8 MB/s \n",
      "\u001B[K     |████████████████████████████████| 271 kB 47.2 MB/s \n",
      "\u001B[K     |████████████████████████████████| 381 kB 43.2 MB/s \n",
      "\u001B[K     |████████████████████████████████| 4.0 MB 40.8 MB/s \n",
      "\u001B[K     |████████████████████████████████| 159 kB 52.1 MB/s \n",
      "\u001B[K     |████████████████████████████████| 1.3 MB 59.3 MB/s \n",
      "\u001B[K     |████████████████████████████████| 26.7 MB 59.7 MB/s \n",
      "\u001B[K     |████████████████████████████████| 2.4 MB 44.6 MB/s \n",
      "\u001B[K     |████████████████████████████████| 97 kB 6.5 MB/s \n",
      "\u001B[K     |████████████████████████████████| 40 kB 4.7 MB/s \n",
      "\u001B[K     |████████████████████████████████| 596 kB 53.0 MB/s \n",
      "\u001B[K     |████████████████████████████████| 16.5 MB 40.5 MB/s \n",
      "\u001B[K     |████████████████████████████████| 96 kB 5.0 MB/s \n",
      "\u001B[K     |████████████████████████████████| 212 kB 48.0 MB/s \n",
      "\u001B[K     |████████████████████████████████| 63 kB 1.5 MB/s \n",
      "\u001B[K     |████████████████████████████████| 198 kB 13.8 MB/s \n",
      "\u001B[K     |████████████████████████████████| 1.1 MB 73.2 MB/s \n",
      "\u001B[K     |████████████████████████████████| 144 kB 38.6 MB/s \n",
      "\u001B[K     |████████████████████████████████| 94 kB 138 kB/s \n",
      "\u001B[K     |████████████████████████████████| 1.3 MB 61.2 MB/s \n",
      "\u001B[K     |████████████████████████████████| 1.3 MB 29.8 MB/s \n",
      "\u001B[K     |████████████████████████████████| 1.1 MB 52.0 MB/s \n",
      "\u001B[K     |████████████████████████████████| 929 kB 57.9 MB/s \n",
      "\u001B[K     |████████████████████████████████| 263 kB 49.1 MB/s \n",
      "\u001B[K     |████████████████████████████████| 8.7 MB 57.6 MB/s \n",
      "\u001B[K     |████████████████████████████████| 79 kB 7.4 MB/s \n",
      "\u001B[K     |████████████████████████████████| 138 kB 58.5 MB/s \n",
      "\u001B[K     |████████████████████████████████| 62 kB 688 kB/s \n",
      "\u001B[K     |████████████████████████████████| 79 kB 8.0 MB/s \n",
      "\u001B[K     |████████████████████████████████| 146 kB 58.9 MB/s \n",
      "\u001B[K     |████████████████████████████████| 210 kB 46.6 MB/s \n",
      "\u001B[K     |████████████████████████████████| 54 kB 2.3 MB/s \n",
      "\u001B[K     |████████████████████████████████| 127 kB 48.9 MB/s \n",
      "\u001B[K     |████████████████████████████████| 51 kB 5.9 MB/s \n",
      "\u001B[K     |████████████████████████████████| 291 kB 57.1 MB/s \n",
      "\u001B[K     |████████████████████████████████| 78 kB 6.0 MB/s \n",
      "\u001B[K     |████████████████████████████████| 95 kB 3.8 MB/s \n",
      "\u001B[K     |████████████████████████████████| 224 kB 62.0 MB/s \n",
      "\u001B[K     |████████████████████████████████| 132 kB 60.3 MB/s \n",
      "\u001B[K     |████████████████████████████████| 77 kB 6.3 MB/s \n",
      "\u001B[K     |████████████████████████████████| 895 kB 58.0 MB/s \n",
      "\u001B[K     |████████████████████████████████| 6.5 MB 40.4 MB/s \n",
      "\u001B[?25h  Building wheel for pyspark (setup.py) ... \u001B[?25l\u001B[?25hdone\n",
      "  Building wheel for validate-email (setup.py) ... \u001B[?25l\u001B[?25hdone\n",
      "  Building wheel for databricks-cli (setup.py) ... \u001B[?25l\u001B[?25hdone\n",
      "  Building wheel for polling (setup.py) ... \u001B[?25l\u001B[?25hdone\n",
      "\u001B[31mERROR: pip's dependency resolver does not currently take into account all the packages that are installed. This behaviour is the source of the following dependency conflicts.\n",
      "nbclient 0.5.13 requires jupyter-client>=6.1.5, but you have jupyter-client 5.3.5 which is incompatible.\n",
      "jupyter-console 5.2.0 requires prompt-toolkit<2.0.0,>=1.0.0, but you have prompt-toolkit 3.0.29 which is incompatible.\n",
      "ipython 5.5.0 requires prompt-toolkit<2.0.0,>=1.0.4, but you have prompt-toolkit 3.0.29 which is incompatible.\n",
      "gym 0.17.3 requires cloudpickle<1.7.0,>=1.2.0, but you have cloudpickle 2.0.0 which is incompatible.\n",
      "datascience 0.10.6 requires folium==0.2.1, but you have folium 0.8.3 which is incompatible.\u001B[0m\n"
     ]
    }
   ],
   "source": [
    "pip install layer-sdk -qqq"
   ]
  },
  {
   "cell_type": "markdown",
   "source": [
    "### Authenticate your layer account"
   ],
   "metadata": {
    "id": "VEgXwNoD--Fv"
   }
  },
  {
   "cell_type": "code",
   "execution_count": 2,
   "metadata": {
    "id": "hqiz4EpdUGsl"
   },
   "outputs": [],
   "source": [
    "import layer\n",
    "from layer.decorators import model, resources, pip_requirements, fabric, dataset"
   ]
  },
  {
   "cell_type": "code",
   "execution_count": 3,
   "metadata": {
    "colab": {
     "base_uri": "https://localhost:8080/"
    },
    "id": "3BIKVcI8URpL",
    "outputId": "027d8ef8-c2b0-47bd-b704-22c5dd2fd0bc"
   },
   "outputs": [
    {
     "output_type": "stream",
     "name": "stdout",
     "text": [
      "Layer, version 0.9.344693\n"
     ]
    }
   ],
   "source": [
    "!layer --version"
   ]
  },
  {
   "cell_type": "code",
   "execution_count": 4,
   "metadata": {
    "colab": {
     "base_uri": "https://localhost:8080/"
    },
    "id": "aUYDF8aGUU8q",
    "outputId": "1600414f-24f6-4de5-d5a1-acbc707c1e6d"
   },
   "outputs": [
    {
     "output_type": "stream",
     "name": "stdout",
     "text": [
      "Please open the following link in your web browser. Once logged in, copy the code and paste it here.\n",
      "https://auth.development.layer.co/authorize?response_type=code&code_challenge=M68F4NW27XXqP2Xv-kF4Npn11N_yQa7whQAD4rbrma4&code_challenge_method=S256&client_id=nv7k9jFnEHhMVQT6gWRoHMYkEtGUedtz&redirect_uri=https://development.layer.co/oauth/code&scope=offline_access&audience=https://development.layer.co\n",
      "Code: vMP74Bj85Ve0rx_VWCBNg5VZYL30A-2gaWHUL4u9g9yAY\n",
      "Successfully logged into https://development.layer.co/\n"
     ]
    }
   ],
   "source": [
    "# layer.logout()\n",
    "# layer.login(\"https://app.layer.ai/\")\n",
    "layer.login(\"https://development.layer.co/\")"
   ]
  },
  {
   "cell_type": "markdown",
   "source": [
    "### Initialize a Layer project"
   ],
   "metadata": {
    "id": "5CjzEv8W_BX7"
   }
  },
  {
   "cell_type": "code",
   "execution_count": 69,
   "metadata": {
    "colab": {
     "base_uri": "https://localhost:8080/"
    },
    "id": "GHd-ypcMWGSi",
    "outputId": "0f7dd4e6-46f4-479b-fe40-4c1eda384a1c"
   },
   "outputs": [
    {
     "output_type": "execute_result",
     "data": {
      "text/plain": [
       "Project(name='credit-score', raw_datasets=[], derived_datasets=[], featuresets=[], models=[], path=PosixPath('.'), project_files_hash='', readme='', organization=Organization(id=UUID('d7325da3-0646-4fa6-855d-8d19eece8b79'), name='layer'), _id=UUID('da40128d-bc11-473d-af2c-bc38c8fd2dc7'), functions=[])"
      ]
     },
     "metadata": {},
     "execution_count": 69
    }
   ],
   "source": [
    "# init Layer\n",
    "layer.init(\"credit-score\")"
   ]
  },
  {
   "cell_type": "code",
   "execution_count": 6,
   "metadata": {
    "id": "mSq35B1JUgko"
   },
   "outputs": [],
   "source": [
    "from sklearn.preprocessing import OneHotEncoder\n",
    "from sklearn.compose import ColumnTransformer\n",
    "from sklearn.model_selection import train_test_split\n",
    "from sklearn.metrics import average_precision_score, roc_auc_score, precision_score, recall_score, f1_score\n",
    "from sklearn.ensemble import HistGradientBoostingClassifier\n",
    "import pandas as pd"
   ]
  },
  {
   "cell_type": "markdown",
   "source": [
    "### Dataset definition\n",
    "The first step is to define all the datasets that we will use in this project. We will use the following datasets:\n",
    "\n",
    "- The application data\n",
    "- The installment payments data\n",
    "- The previous application data\n",
    "\n",
    "In Layer, we define datasets using the `dataset` decorator. "
   ],
   "metadata": {
    "id": "FOpRY4gM_FiC"
   }
  },
  {
   "cell_type": "code",
   "execution_count": 7,
   "metadata": {
    "id": "GeHmAENnVqPe"
   },
   "outputs": [],
   "source": [
    "@dataset(\"application_dataset\")\n",
    "def read_application_data():\n",
    "    df = pd.read_csv(\"https://raw.githubusercontent.com/layerml/layerv2_credit_score/main/application_train.csv\")\n",
    "    return df"
   ]
  },
  {
   "cell_type": "markdown",
   "source": [
    "Calling the run command will save this data on Layer so that you can use it easily in subsequent calls."
   ],
   "metadata": {
    "id": "E809LBQh_ceR"
   }
  },
  {
   "cell_type": "code",
   "execution_count": 8,
   "metadata": {
    "colab": {
     "base_uri": "https://localhost:8080/",
     "height": 70,
     "referenced_widgets": [
      "6021e6f649384a33b73536e2dee97037",
      "e71dee37791f440481b744f73df9fa7f"
     ]
    },
    "id": "cAsk0qmhW8a0",
    "outputId": "2c830d42-564f-4dce-d4f8-a629d5a4b519"
   },
   "outputs": [
    {
     "output_type": "display_data",
     "data": {
      "text/plain": [
       "Output()"
      ],
      "application/vnd.jupyter.widget-view+json": {
       "version_major": 2,
       "version_minor": 0,
       "model_id": "6021e6f649384a33b73536e2dee97037"
      }
     },
     "metadata": {}
    },
    {
     "output_type": "execute_result",
     "data": {
      "text/plain": [
       "Run(project_name='credit-score')"
      ]
     },
     "metadata": {},
     "execution_count": 8
    }
   ],
   "source": [
    "layer.run([read_application_data])"
   ]
  },
  {
   "cell_type": "code",
   "execution_count": 9,
   "metadata": {
    "id": "nruiPBmdVt_W"
   },
   "outputs": [],
   "source": [
    "@dataset(\"installments_payments\")\n",
    "def read_installments_data():\n",
    "    df = pd.read_csv(\"https://raw.githubusercontent.com/layerml/layerv2_credit_score/main/installments_payments.csv\")\n",
    "    return df"
   ]
  },
  {
   "cell_type": "code",
   "execution_count": 10,
   "metadata": {
    "id": "-XIKqJpUW9AW",
    "colab": {
     "base_uri": "https://localhost:8080/",
     "height": 70,
     "referenced_widgets": [
      "5b9bfbdf151d45fe948f04530a8ece7c",
      "888237f84b514cfb8b5f0348474b855e"
     ]
    },
    "outputId": "78cd56e6-6bb0-40a4-f393-0ea17783de3e"
   },
   "outputs": [
    {
     "output_type": "display_data",
     "data": {
      "text/plain": [
       "Output()"
      ],
      "application/vnd.jupyter.widget-view+json": {
       "version_major": 2,
       "version_minor": 0,
       "model_id": "5b9bfbdf151d45fe948f04530a8ece7c"
      }
     },
     "metadata": {}
    },
    {
     "output_type": "execute_result",
     "data": {
      "text/plain": [
       "Run(project_name='credit-score')"
      ]
     },
     "metadata": {},
     "execution_count": 10
    }
   ],
   "source": [
    "layer.run([read_installments_data])"
   ]
  },
  {
   "cell_type": "code",
   "execution_count": 11,
   "metadata": {
    "id": "wgXagWCiVvwE"
   },
   "outputs": [],
   "source": [
    "@dataset(\"previous_application\")\n",
    "def read_previous_application_data():\n",
    "    df = pd.read_csv(\"https://raw.githubusercontent.com/layerml/layerv2_credit_score/main/previous_application.csv\")\n",
    "    return df"
   ]
  },
  {
   "cell_type": "code",
   "execution_count": 12,
   "metadata": {
    "id": "D6zLpH60W7vW",
    "colab": {
     "base_uri": "https://localhost:8080/",
     "height": 70,
     "referenced_widgets": [
      "2d3d991d5ccb491bbadfbad01308521a",
      "0dc5ce114b0b44598f090c22732e8940"
     ]
    },
    "outputId": "b081f8b5-8a81-4b4b-f8fa-7eff77e56e36"
   },
   "outputs": [
    {
     "output_type": "display_data",
     "data": {
      "text/plain": [
       "Output()"
      ],
      "application/vnd.jupyter.widget-view+json": {
       "version_major": 2,
       "version_minor": 0,
       "model_id": "2d3d991d5ccb491bbadfbad01308521a"
      }
     },
     "metadata": {}
    },
    {
     "output_type": "execute_result",
     "data": {
      "text/plain": [
       "Run(project_name='credit-score')"
      ]
     },
     "metadata": {},
     "execution_count": 12
    }
   ],
   "source": [
    "layer.run([read_previous_application_data])"
   ]
  },
  {
   "cell_type": "markdown",
   "source": [
    "### Create features\n",
    "Next, extract features from the above datasets."
   ],
   "metadata": {
    "id": "388B_59K_siJ"
   }
  },
  {
   "cell_type": "code",
   "execution_count": 13,
   "metadata": {
    "id": "2-imIajZVxkw"
   },
   "outputs": [],
   "source": [
    "@dataset(\"application_features\")\n",
    "def extract_application_features():\n",
    "    df = layer.get_dataset('layer/credit-score/datasets/application_dataset').to_pandas()\n",
    "\n",
    "    # credit amount ratio relative to the income of a client\n",
    "    df['CREDIT_INCOME_RATIO'] = df['AMT_CREDIT'] / df['AMT_INCOME_TOTAL']\n",
    "\n",
    "    # loan annuity percentage relative to the income of a client\n",
    "    df['ANNUITY_INCOME_RATIO'] = df['AMT_ANNUITY'] / df['AMT_INCOME_TOTAL']\n",
    "    # the length of the payment in months \n",
    "    df['CREDIT_TERM'] = df['AMT_ANNUITY'] / df['AMT_CREDIT']\n",
    "    # days employed relative to the age of the client\n",
    "    df['DAYS_EMPLOYED_RATIO'] = df['DAYS_EMPLOYED'] / df['DAYS_BIRTH']\n",
    "    return df"
   ]
  },
  {
   "cell_type": "markdown",
   "source": [
    "Calling the `run` command saves the new features so that you don't have to run the feature extraction functions again. "
   ],
   "metadata": {
    "id": "231sx13E_zvn"
   }
  },
  {
   "cell_type": "code",
   "execution_count": 14,
   "metadata": {
    "id": "W6zp31jkXHSs",
    "colab": {
     "base_uri": "https://localhost:8080/",
     "height": 70,
     "referenced_widgets": [
      "8fd368175fdc4b65a18a961f5e322335",
      "af787d0e10074a5f80fb1cd0cda46073"
     ]
    },
    "outputId": "0326d194-c918-421b-cfe0-bc206ab48a6d"
   },
   "outputs": [
    {
     "output_type": "display_data",
     "data": {
      "text/plain": [
       "Output()"
      ],
      "application/vnd.jupyter.widget-view+json": {
       "version_major": 2,
       "version_minor": 0,
       "model_id": "8fd368175fdc4b65a18a961f5e322335"
      }
     },
     "metadata": {}
    },
    {
     "output_type": "execute_result",
     "data": {
      "text/plain": [
       "Run(project_name='credit-score')"
      ]
     },
     "metadata": {},
     "execution_count": 14
    }
   ],
   "source": [
    "layer.run([extract_application_features])"
   ]
  },
  {
   "cell_type": "markdown",
   "source": [
    "## Model definition\n",
    "In Layer, models are defined using the `model` decorator. In this case we decorate a function called `train`, however you can give this fucntion your prefered name e.g `train_model`. "
   ],
   "metadata": {
    "id": "LPfUoWuH_-eE"
   }
  },
  {
   "cell_type": "code",
   "execution_count": 62,
   "metadata": {
    "id": "0vyZBirvVzj2"
   },
   "outputs": [],
   "source": [
    "@fabric(\"f-medium\")\n",
    "@model(name=\"credit_score_model\")\n",
    "def train():\n",
    "    import matplotlib.pyplot as plt\n",
    "    from sklearn.metrics import roc_curve,precision_recall_curve\n",
    "    application_features =  layer.get_dataset('layer/credit-score/datasets/application_features').to_pandas()\n",
    "    previous_application_features = layer.get_dataset('layer/credit-score/datasets/previous_application').to_pandas()\n",
    "    installments_payments = layer.get_dataset('layer/credit-score/datasets/installments_payments').to_pandas()\n",
    "    dff = installments_payments.merge(previous_application_features, on=['SK_ID_PREV', 'SK_ID_CURR']).merge(application_features,on=['SK_ID_CURR'])\n",
    "    X = dff.drop([\"TARGET\", \"SK_ID_CURR\",'index'], axis=1)\n",
    "    y = dff[\"TARGET\"]\n",
    "    random_state = 13\n",
    "    test_size = 0.3\n",
    "    categories = dff.select_dtypes(include=['object']).columns.tolist() \n",
    "    transformer = ColumnTransformer(transformers=[('cat', OneHotEncoder(handle_unknown='ignore', drop=\"first\"), categories)],remainder='passthrough')\n",
    "    X = transformer.fit_transform(X)\n",
    "    X_train, X_test, y_train, y_test = train_test_split(X, y, test_size=test_size,\n",
    "                                                        random_state=random_state)\n",
    "  \n",
    "\n",
    "     # Model Parameters\n",
    "    learning_rate = 0.01\n",
    "    max_depth = 6\n",
    "    min_samples_leaf = 10\n",
    "    random_state = 42\n",
    "    early_stopping = True\n",
    "    # Log model parameters\n",
    "    layer.log(\n",
    "      {\n",
    "      \"min_samples_leaf\":min_samples_leaf,\n",
    "      \"learning_rate\":learning_rate,\n",
    "      \"random_state\":random_state,\n",
    "      \"early_stopping\":early_stopping,\n",
    "      \"max_depth\":max_depth\n",
    "      })\n",
    "    # Model: Define a HistGradient Boosting Classifier\n",
    "    model = HistGradientBoostingClassifier(learning_rate=learning_rate,max_depth=max_depth,min_samples_leaf=min_samples_leaf,early_stopping=early_stopping,random_state=random_state)\n",
    "\n",
    "     # Pipeline fit\n",
    "    model.fit(X_train, y_train)\n",
    "    # Predict probabilities of target\n",
    "    probs = model.predict_proba(X_test)[:,1]\n",
    "    # Calculate average precision and area under the receiver operating characteric curve (ROC AUC)\n",
    "    avg_precision = average_precision_score(y_test, probs, pos_label=1)\n",
    "    auc = roc_auc_score(y_test, probs)\n",
    "    layer.log({\"AUC\":f'{auc:.4f}'})\n",
    "    layer.log({\"avg_precision\":f'{avg_precision:.4f}'})\n",
    "    # plot no skill roc curve\n",
    "    plt.plot([0, 1], [0, 1], linestyle='--', label='No Skill')\n",
    "    # calculate roc curve for model\n",
    "    fpr, tpr, _ = roc_curve(y_test, probs)\n",
    "    # plot model roc curve\n",
    "    plt.plot(fpr, tpr, marker='.', label='HistGradientBoosting')\n",
    "    # axis labels\n",
    "    plt.xlabel('False Positive Rate')\n",
    "    plt.ylabel('True Positive Rate')\n",
    "    # show the legend\n",
    "    plt.legend()\n",
    "    # show the plot\n",
    "    plt.show()\n",
    "    layer.log({\"roc curve\":plt.gcf()})\n",
    "    # calculate the precision-recall auc\n",
    "    precision, recall, _ = precision_recall_curve(y_test, probs)\n",
    "    # calculate the no skill line as the proportion of the positive class\n",
    "    no_skill = len(y[y==1]) / len(y)\n",
    "    # plot the no skill precision-recall curve\n",
    "    plt.plot([0, 1], [no_skill, no_skill], linestyle='--', label='No Skill')\n",
    "    # plot the model precision-recall curve\n",
    "    plt.plot(recall, precision, marker='.', label='HistGradientBoosting')\n",
    "    # axis labels\n",
    "    plt.xlabel('Recall')\n",
    "    plt.ylabel('Precision')\n",
    "    # show the legend\n",
    "    plt.legend()\n",
    "    # show the plot\n",
    "    plt.show()\n",
    "    layer.log({\"Precision Recall Curve\":plt.gcf()})\n",
    "    \n",
    "    return model"
   ]
  },
  {
   "cell_type": "markdown",
   "source": [
    "Calling the `run` function with the `train` function runs all your model code and stores the resulting model to Layer. The model will then be available for inference immediately. Layer also saves all the items logged in the function, for example, metrics, parameters and images."
   ],
   "metadata": {
    "id": "hERt1h3vASlz"
   }
  },
  {
   "cell_type": "code",
   "execution_count": 63,
   "metadata": {
    "colab": {
     "base_uri": "https://localhost:8080/",
     "height": 70,
     "referenced_widgets": [
      "f11f8f47c4b94f96b760af7bb04244ed",
      "da171dd13c0040918655af59ff4f0eb3"
     ]
    },
    "id": "4BzS7KqPV3Gf",
    "outputId": "4a638e55-7b5b-4f76-a0a6-4ef4e02d66b8"
   },
   "outputs": [
    {
     "output_type": "display_data",
     "data": {
      "text/plain": [
       "Output()"
      ],
      "application/vnd.jupyter.widget-view+json": {
       "version_major": 2,
       "version_minor": 0,
       "model_id": "f11f8f47c4b94f96b760af7bb04244ed"
      }
     },
     "metadata": {}
    },
    {
     "output_type": "execute_result",
     "data": {
      "text/plain": [
       "Run(project_name='credit-score')"
      ]
     },
     "metadata": {},
     "execution_count": 63
    }
   ],
   "source": [
    "# ++ To run the whole project on Layer Infra\n",
    "layer.run([train])"
   ]
  },
  {
   "cell_type": "markdown",
   "source": [
    "You can also run the model on your own infra by calling the `train` function. The model will be executed using your infra but the resulting model will be saved to Layer. "
   ],
   "metadata": {
    "id": "6D3_1YM6AkgK"
   }
  },
  {
   "cell_type": "markdown",
   "source": [
    "## Using Layer entities \n",
    "After running the project, you can start using the Layer entites immediately. For example, you can fetch the trained model and use it to make preditions. "
   ],
   "metadata": {
    "id": "RJ0grJh-B-T_"
   }
  },
  {
   "cell_type": "code",
   "execution_count": 39,
   "metadata": {
    "id": "mdEevF2fcQ1s"
   },
   "outputs": [],
   "source": [
    "from sklearn.model_selection import train_test_split\n",
    "import layer\n",
    "import numpy as np\n",
    "from sklearn.preprocessing import OneHotEncoder\n",
    "from sklearn.compose import ColumnTransformer\n",
    "application_features =  layer.get_dataset('layer/credit-score/datasets/application_features').to_pandas()\n",
    "previous_application_features = layer.get_dataset('layer/credit-score/datasets/previous_application').to_pandas()\n",
    "installments_payments = layer.get_dataset('layer/credit-score/datasets/installments_payments').to_pandas()\n",
    "dff = installments_payments.merge(previous_application_features, on=['SK_ID_PREV', 'SK_ID_CURR']).merge(application_features,on=['SK_ID_CURR'])\n",
    "X = dff.drop([\"TARGET\", \"SK_ID_CURR\",'index'], axis=1)\n",
    "y = dff[\"TARGET\"]\n",
    "credit_model = layer.get_model('layer/credit-score/models/credit_score_model').get_train()\n",
    "categories = X.select_dtypes(include=['object']).columns.tolist() \n",
    "transformer = ColumnTransformer(\n",
    "        transformers=[('cat', OneHotEncoder(handle_unknown='ignore', drop=\"first\"), categories)],\n",
    "        remainder='passthrough')\n",
    "\n",
    "X = transformer.fit_transform(X,)\n",
    "X_train, X_test, y_train, y_test = train_test_split(X, y, test_size=0.3,\n",
    "                                                        random_state=0)"
   ]
  },
  {
   "cell_type": "code",
   "execution_count": 45,
   "metadata": {
    "id": "npeXuLBMgOrN",
    "colab": {
     "base_uri": "https://localhost:8080/"
    },
    "outputId": "23483068-4022-4b6a-cdf7-aceb1295e28c"
   },
   "outputs": [
    {
     "output_type": "execute_result",
     "data": {
      "text/plain": [
       "array([0])"
      ]
     },
     "metadata": {},
     "execution_count": 45
    }
   ],
   "source": [
    "credit_model.predict(X_test[0:1])"
   ]
  },
  {
   "cell_type": "code",
   "execution_count": 46,
   "metadata": {
    "id": "6_1x5UOvgP8a",
    "colab": {
     "base_uri": "https://localhost:8080/"
    },
    "outputId": "3598e97d-2d0c-449f-e2cd-f0c7a91b4628"
   },
   "outputs": [
    {
     "output_type": "execute_result",
     "data": {
      "text/plain": [
       "array([[0.86409123, 0.13590877]])"
      ]
     },
     "metadata": {},
     "execution_count": 46
    }
   ],
   "source": [
    "credit_model.predict_proba(X_test[0:1])"
   ]
  },
  {
   "cell_type": "markdown",
   "source": [
    "## Where to go from here?\n",
    "\n",
    "Now that you have created this credit score project, you can:\n",
    "\n",
    "- Join our [Slack Community ](https://bit.ly/layercommunityslack)\n",
    "- Visit [Layer Examples Repo](https://github.com/layerai/examples) for more examples\n",
    "- Browse [Trending Layer Projects](https://layer.ai) on our mainpage\n",
    "- Check out [Layer Documentation](https://docs.layer.ai) to learn more"
   ],
   "metadata": {
    "id": "Qz5Tyf5oB0XT"
   }
  }
 ],
 "metadata": {
  "colab": {
   "collapsed_sections": [],
   "name": "credit score.ipynb",
   "provenance": []
  },
  "kernelspec": {
   "display_name": "Python 3",
   "name": "python3"
  },
  "language_info": {
   "name": "python"
  },
  "widgets": {
   "application/vnd.jupyter.widget-state+json": {
    "6021e6f649384a33b73536e2dee97037": {
     "model_module": "@jupyter-widgets/output",
     "model_name": "OutputModel",
     "model_module_version": "1.0.0",
     "state": {
      "_dom_classes": [],
      "_model_module": "@jupyter-widgets/output",
      "_model_module_version": "1.0.0",
      "_model_name": "OutputModel",
      "_view_count": null,
      "_view_module": "@jupyter-widgets/output",
      "_view_module_version": "1.0.0",
      "_view_name": "OutputView",
      "layout": "IPY_MODEL_e71dee37791f440481b744f73df9fa7f",
      "msg_id": "",
      "outputs": [
       {
        "output_type": "display_data",
        "data": {
         "text/plain": "✅  application_dataset  \u001B[38;2;52;211;153m━━━━━━━━━━━━━━━━━━━━━━\u001B[0m \u001B[38;2;52;211;153m        done         \u001B[0m \u001B[39m[ \u001B[0m\u001B[33m0:00:17\u001B[0m\u001B[39m ]\u001B[0m \n    \u001B]8;id=986293;https://development.layer.co/layer/credit-score/datasets/application_dataset\u001B\\\u001B[4;38;2;161;161;169mhttps://development.layer.co/layer/credit-score/datasets/application_dataset\u001B[0m\u001B]8;;\u001B\\  \n",
         "text/html": "<pre style=\"white-space:pre;overflow-x:auto;line-height:normal;font-family:Menlo,'DejaVu Sans Mono',consolas,'Courier New',monospace\">✅  application_dataset  <span style=\"color: #34d399; text-decoration-color: #34d399\">━━━━━━━━━━━━━━━━━━━━━━</span> <span style=\"color: #34d399; text-decoration-color: #34d399\">        done         </span> <span style=\"color: #000000; text-decoration-color: #000000\">[ </span><span style=\"color: #808000; text-decoration-color: #808000\">0:00:17</span><span style=\"color: #000000; text-decoration-color: #000000\"> ]</span> \n    <a href=\"https://development.layer.co/layer/credit-score/datasets/application_dataset\"><span style=\"color: #a1a1a9; text-decoration-color: #a1a1a9; text-decoration: underline\">https://development.layer.co/layer/credit-score/datasets/application_dataset</span></a>  \n</pre>\n"
        },
        "metadata": {}
       }
      ]
     }
    },
    "e71dee37791f440481b744f73df9fa7f": {
     "model_module": "@jupyter-widgets/base",
     "model_name": "LayoutModel",
     "model_module_version": "1.2.0",
     "state": {
      "_model_module": "@jupyter-widgets/base",
      "_model_module_version": "1.2.0",
      "_model_name": "LayoutModel",
      "_view_count": null,
      "_view_module": "@jupyter-widgets/base",
      "_view_module_version": "1.2.0",
      "_view_name": "LayoutView",
      "align_content": null,
      "align_items": null,
      "align_self": null,
      "border": null,
      "bottom": null,
      "display": null,
      "flex": null,
      "flex_flow": null,
      "grid_area": null,
      "grid_auto_columns": null,
      "grid_auto_flow": null,
      "grid_auto_rows": null,
      "grid_column": null,
      "grid_gap": null,
      "grid_row": null,
      "grid_template_areas": null,
      "grid_template_columns": null,
      "grid_template_rows": null,
      "height": null,
      "justify_content": null,
      "justify_items": null,
      "left": null,
      "margin": null,
      "max_height": null,
      "max_width": null,
      "min_height": null,
      "min_width": null,
      "object_fit": null,
      "object_position": null,
      "order": null,
      "overflow": null,
      "overflow_x": null,
      "overflow_y": null,
      "padding": null,
      "right": null,
      "top": null,
      "visibility": null,
      "width": null
     }
    },
    "5b9bfbdf151d45fe948f04530a8ece7c": {
     "model_module": "@jupyter-widgets/output",
     "model_name": "OutputModel",
     "model_module_version": "1.0.0",
     "state": {
      "_dom_classes": [],
      "_model_module": "@jupyter-widgets/output",
      "_model_module_version": "1.0.0",
      "_model_name": "OutputModel",
      "_view_count": null,
      "_view_module": "@jupyter-widgets/output",
      "_view_module_version": "1.0.0",
      "_view_name": "OutputView",
      "layout": "IPY_MODEL_888237f84b514cfb8b5f0348474b855e",
      "msg_id": "",
      "outputs": [
       {
        "output_type": "display_data",
        "data": {
         "text/plain": "✅  installments_paymen… \u001B[38;2;52;211;153m━━━━━━━━━━━━━━━━━━━━━━\u001B[0m \u001B[38;2;52;211;153m        done         \u001B[0m \u001B[39m[ \u001B[0m\u001B[33m0:00:23\u001B[0m\u001B[39m ]\u001B[0m  \n    \u001B]8;id=909238;https://development.layer.co/layer/credit-score/datasets/installments_payments\u001B\\\u001B[4;38;2;161;161;169mhttps://development.layer.co/layer/credit-score/datasets/installments_payments\u001B[0m\u001B]8;;\u001B\\ \n",
         "text/html": "<pre style=\"white-space:pre;overflow-x:auto;line-height:normal;font-family:Menlo,'DejaVu Sans Mono',consolas,'Courier New',monospace\">✅  installments_paymen… <span style=\"color: #34d399; text-decoration-color: #34d399\">━━━━━━━━━━━━━━━━━━━━━━</span> <span style=\"color: #34d399; text-decoration-color: #34d399\">        done         </span> <span style=\"color: #000000; text-decoration-color: #000000\">[ </span><span style=\"color: #808000; text-decoration-color: #808000\">0:00:23</span><span style=\"color: #000000; text-decoration-color: #000000\"> ]</span>  \n    <a href=\"https://development.layer.co/layer/credit-score/datasets/installments_payments\"><span style=\"color: #a1a1a9; text-decoration-color: #a1a1a9; text-decoration: underline\">https://development.layer.co/layer/credit-score/datasets/installments_payments</span></a> \n</pre>\n"
        },
        "metadata": {}
       }
      ]
     }
    },
    "888237f84b514cfb8b5f0348474b855e": {
     "model_module": "@jupyter-widgets/base",
     "model_name": "LayoutModel",
     "model_module_version": "1.2.0",
     "state": {
      "_model_module": "@jupyter-widgets/base",
      "_model_module_version": "1.2.0",
      "_model_name": "LayoutModel",
      "_view_count": null,
      "_view_module": "@jupyter-widgets/base",
      "_view_module_version": "1.2.0",
      "_view_name": "LayoutView",
      "align_content": null,
      "align_items": null,
      "align_self": null,
      "border": null,
      "bottom": null,
      "display": null,
      "flex": null,
      "flex_flow": null,
      "grid_area": null,
      "grid_auto_columns": null,
      "grid_auto_flow": null,
      "grid_auto_rows": null,
      "grid_column": null,
      "grid_gap": null,
      "grid_row": null,
      "grid_template_areas": null,
      "grid_template_columns": null,
      "grid_template_rows": null,
      "height": null,
      "justify_content": null,
      "justify_items": null,
      "left": null,
      "margin": null,
      "max_height": null,
      "max_width": null,
      "min_height": null,
      "min_width": null,
      "object_fit": null,
      "object_position": null,
      "order": null,
      "overflow": null,
      "overflow_x": null,
      "overflow_y": null,
      "padding": null,
      "right": null,
      "top": null,
      "visibility": null,
      "width": null
     }
    },
    "2d3d991d5ccb491bbadfbad01308521a": {
     "model_module": "@jupyter-widgets/output",
     "model_name": "OutputModel",
     "model_module_version": "1.0.0",
     "state": {
      "_dom_classes": [],
      "_model_module": "@jupyter-widgets/output",
      "_model_module_version": "1.0.0",
      "_model_name": "OutputModel",
      "_view_count": null,
      "_view_module": "@jupyter-widgets/output",
      "_view_module_version": "1.0.0",
      "_view_name": "OutputView",
      "layout": "IPY_MODEL_0dc5ce114b0b44598f090c22732e8940",
      "msg_id": "",
      "outputs": [
       {
        "output_type": "display_data",
        "data": {
         "text/plain": "✅  previous_application \u001B[38;2;52;211;153m━━━━━━━━━━━━━━━━━━━━━━\u001B[0m \u001B[38;2;52;211;153m        done         \u001B[0m \u001B[39m[ \u001B[0m\u001B[33m0:00:10\u001B[0m\u001B[39m ]\u001B[0m \n    \u001B]8;id=79680;https://development.layer.co/layer/credit-score/datasets/previous_application\u001B\\\u001B[4;38;2;161;161;169mhttps://development.layer.co/layer/credit-score/datasets/previous_application\u001B[0m\u001B]8;;\u001B\\ \n",
         "text/html": "<pre style=\"white-space:pre;overflow-x:auto;line-height:normal;font-family:Menlo,'DejaVu Sans Mono',consolas,'Courier New',monospace\">✅  previous_application <span style=\"color: #34d399; text-decoration-color: #34d399\">━━━━━━━━━━━━━━━━━━━━━━</span> <span style=\"color: #34d399; text-decoration-color: #34d399\">        done         </span> <span style=\"color: #000000; text-decoration-color: #000000\">[ </span><span style=\"color: #808000; text-decoration-color: #808000\">0:00:10</span><span style=\"color: #000000; text-decoration-color: #000000\"> ]</span> \n    <a href=\"https://development.layer.co/layer/credit-score/datasets/previous_application\"><span style=\"color: #a1a1a9; text-decoration-color: #a1a1a9; text-decoration: underline\">https://development.layer.co/layer/credit-score/datasets/previous_application</span></a> \n</pre>\n"
        },
        "metadata": {}
       }
      ]
     }
    },
    "0dc5ce114b0b44598f090c22732e8940": {
     "model_module": "@jupyter-widgets/base",
     "model_name": "LayoutModel",
     "model_module_version": "1.2.0",
     "state": {
      "_model_module": "@jupyter-widgets/base",
      "_model_module_version": "1.2.0",
      "_model_name": "LayoutModel",
      "_view_count": null,
      "_view_module": "@jupyter-widgets/base",
      "_view_module_version": "1.2.0",
      "_view_name": "LayoutView",
      "align_content": null,
      "align_items": null,
      "align_self": null,
      "border": null,
      "bottom": null,
      "display": null,
      "flex": null,
      "flex_flow": null,
      "grid_area": null,
      "grid_auto_columns": null,
      "grid_auto_flow": null,
      "grid_auto_rows": null,
      "grid_column": null,
      "grid_gap": null,
      "grid_row": null,
      "grid_template_areas": null,
      "grid_template_columns": null,
      "grid_template_rows": null,
      "height": null,
      "justify_content": null,
      "justify_items": null,
      "left": null,
      "margin": null,
      "max_height": null,
      "max_width": null,
      "min_height": null,
      "min_width": null,
      "object_fit": null,
      "object_position": null,
      "order": null,
      "overflow": null,
      "overflow_x": null,
      "overflow_y": null,
      "padding": null,
      "right": null,
      "top": null,
      "visibility": null,
      "width": null
     }
    },
    "8fd368175fdc4b65a18a961f5e322335": {
     "model_module": "@jupyter-widgets/output",
     "model_name": "OutputModel",
     "model_module_version": "1.0.0",
     "state": {
      "_dom_classes": [],
      "_model_module": "@jupyter-widgets/output",
      "_model_module_version": "1.0.0",
      "_model_name": "OutputModel",
      "_view_count": null,
      "_view_module": "@jupyter-widgets/output",
      "_view_module_version": "1.0.0",
      "_view_name": "OutputView",
      "layout": "IPY_MODEL_af787d0e10074a5f80fb1cd0cda46073",
      "msg_id": "",
      "outputs": [
       {
        "output_type": "display_data",
        "data": {
         "text/plain": "✅  application_features \u001B[38;2;52;211;153m━━━━━━━━━━━━━━━━━━━━━━\u001B[0m \u001B[38;2;52;211;153m        done         \u001B[0m \u001B[39m[ \u001B[0m\u001B[33m0:00:13\u001B[0m\u001B[39m ]\u001B[0m \n    \u001B]8;id=908431;https://development.layer.co/layer/credit-score/datasets/application_features\u001B\\\u001B[4;38;2;161;161;169mhttps://development.layer.co/layer/credit-score/datasets/application_features\u001B[0m\u001B]8;;\u001B\\ \n",
         "text/html": "<pre style=\"white-space:pre;overflow-x:auto;line-height:normal;font-family:Menlo,'DejaVu Sans Mono',consolas,'Courier New',monospace\">✅  application_features <span style=\"color: #34d399; text-decoration-color: #34d399\">━━━━━━━━━━━━━━━━━━━━━━</span> <span style=\"color: #34d399; text-decoration-color: #34d399\">        done         </span> <span style=\"color: #000000; text-decoration-color: #000000\">[ </span><span style=\"color: #808000; text-decoration-color: #808000\">0:00:13</span><span style=\"color: #000000; text-decoration-color: #000000\"> ]</span> \n    <a href=\"https://development.layer.co/layer/credit-score/datasets/application_features\"><span style=\"color: #a1a1a9; text-decoration-color: #a1a1a9; text-decoration: underline\">https://development.layer.co/layer/credit-score/datasets/application_features</span></a> \n</pre>\n"
        },
        "metadata": {}
       }
      ]
     }
    },
    "af787d0e10074a5f80fb1cd0cda46073": {
     "model_module": "@jupyter-widgets/base",
     "model_name": "LayoutModel",
     "model_module_version": "1.2.0",
     "state": {
      "_model_module": "@jupyter-widgets/base",
      "_model_module_version": "1.2.0",
      "_model_name": "LayoutModel",
      "_view_count": null,
      "_view_module": "@jupyter-widgets/base",
      "_view_module_version": "1.2.0",
      "_view_name": "LayoutView",
      "align_content": null,
      "align_items": null,
      "align_self": null,
      "border": null,
      "bottom": null,
      "display": null,
      "flex": null,
      "flex_flow": null,
      "grid_area": null,
      "grid_auto_columns": null,
      "grid_auto_flow": null,
      "grid_auto_rows": null,
      "grid_column": null,
      "grid_gap": null,
      "grid_row": null,
      "grid_template_areas": null,
      "grid_template_columns": null,
      "grid_template_rows": null,
      "height": null,
      "justify_content": null,
      "justify_items": null,
      "left": null,
      "margin": null,
      "max_height": null,
      "max_width": null,
      "min_height": null,
      "min_width": null,
      "object_fit": null,
      "object_position": null,
      "order": null,
      "overflow": null,
      "overflow_x": null,
      "overflow_y": null,
      "padding": null,
      "right": null,
      "top": null,
      "visibility": null,
      "width": null
     }
    },
    "f11f8f47c4b94f96b760af7bb04244ed": {
     "model_module": "@jupyter-widgets/output",
     "model_name": "OutputModel",
     "model_module_version": "1.0.0",
     "state": {
      "_dom_classes": [],
      "_model_module": "@jupyter-widgets/output",
      "_model_module_version": "1.0.0",
      "_model_name": "OutputModel",
      "_view_count": null,
      "_view_module": "@jupyter-widgets/output",
      "_view_module_version": "1.0.0",
      "_view_name": "OutputView",
      "layout": "IPY_MODEL_da171dd13c0040918655af59ff4f0eb3",
      "msg_id": "",
      "outputs": [
       {
        "output_type": "display_data",
        "data": {
         "text/plain": "✅  credit_score_model   \u001B[38;2;52;211;153m━━━━━━━━━━━━━━━━━━━━━━\u001B[0m \u001B[38;2;52;211;153m        done         \u001B[0m \u001B[39m[ \u001B[0m\u001B[33m0:02:53\u001B[0m\u001B[39m ]\u001B[0m \n    \u001B]8;id=379886;https://development.layer.co/layer/credit-score/models/credit_score_model\u001B\\\u001B[4;38;2;161;161;169mhttps://development.layer.co/layer/credit-score/models/credit_score_model\u001B[0m\u001B]8;;\u001B\\     \n",
         "text/html": "<pre style=\"white-space:pre;overflow-x:auto;line-height:normal;font-family:Menlo,'DejaVu Sans Mono',consolas,'Courier New',monospace\">✅  credit_score_model   <span style=\"color: #34d399; text-decoration-color: #34d399\">━━━━━━━━━━━━━━━━━━━━━━</span> <span style=\"color: #34d399; text-decoration-color: #34d399\">        done         </span> <span style=\"color: #000000; text-decoration-color: #000000\">[ </span><span style=\"color: #808000; text-decoration-color: #808000\">0:02:53</span><span style=\"color: #000000; text-decoration-color: #000000\"> ]</span> \n    <a href=\"https://development.layer.co/layer/credit-score/models/credit_score_model\"><span style=\"color: #a1a1a9; text-decoration-color: #a1a1a9; text-decoration: underline\">https://development.layer.co/layer/credit-score/models/credit_score_model</span></a>     \n</pre>\n"
        },
        "metadata": {}
       }
      ]
     }
    },
    "da171dd13c0040918655af59ff4f0eb3": {
     "model_module": "@jupyter-widgets/base",
     "model_name": "LayoutModel",
     "model_module_version": "1.2.0",
     "state": {
      "_model_module": "@jupyter-widgets/base",
      "_model_module_version": "1.2.0",
      "_model_name": "LayoutModel",
      "_view_count": null,
      "_view_module": "@jupyter-widgets/base",
      "_view_module_version": "1.2.0",
      "_view_name": "LayoutView",
      "align_content": null,
      "align_items": null,
      "align_self": null,
      "border": null,
      "bottom": null,
      "display": null,
      "flex": null,
      "flex_flow": null,
      "grid_area": null,
      "grid_auto_columns": null,
      "grid_auto_flow": null,
      "grid_auto_rows": null,
      "grid_column": null,
      "grid_gap": null,
      "grid_row": null,
      "grid_template_areas": null,
      "grid_template_columns": null,
      "grid_template_rows": null,
      "height": null,
      "justify_content": null,
      "justify_items": null,
      "left": null,
      "margin": null,
      "max_height": null,
      "max_width": null,
      "min_height": null,
      "min_width": null,
      "object_fit": null,
      "object_position": null,
      "order": null,
      "overflow": null,
      "overflow_x": null,
      "overflow_y": null,
      "padding": null,
      "right": null,
      "top": null,
      "visibility": null,
      "width": null
     }
    }
   }
  }
 },
 "nbformat": 4,
 "nbformat_minor": 0
}